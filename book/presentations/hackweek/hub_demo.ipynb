{
 "cells": [
  {
   "cell_type": "markdown",
   "id": "suffering-union",
   "metadata": {},
   "source": [
    "# Demo JupyterHub\n",
    "\n",
    "**Tutorial Lead:** Eli Holmes (NOAA Fisheries)\n",
    "\n",
    "## Summary\n",
    "\n",
    "This tutorial will show you how to use the basic features of the JupyterHub.\n",
    "\n",
    "## Learning Objectives\n",
    "\n",
    "In this notebok you will learn:\n",
    "- How to start a server in the JupyterHub\n",
    "- The basic hub tools and navigation\n",
    "\n",
    "## Contents\n",
    "\n",
    "1. [Start a server](#Start-a-server)\n",
    "2. [Shutting down your JupyterHub](#Shutting-down-your-JupyterHub)\n",
    "3. [References](#References) "
   ]
  },
  {
   "cell_type": "markdown",
   "id": "649d863c-5ad1-4b9f-9fa0-416ff04396a4",
   "metadata": {},
   "source": [
    "## Start a server\n",
    "\n",
    "1) Scroll through the server sizes. Stick with the 2 Gb server (the default). \n",
    "\n",
    "```{admonition} Tip\n",
    "The amount of memory (RAM) you select, you are guaranteed, but if you use more you risk crashing your server. If you crash the server, it just requires re-running your code from the start (or perhaps restarting your kernel).\n",
    "\n",
    "Most users require only 2 Gb of memory, like while we develop code, so consider using 2 Gb for most of your work and then switching over to a larger computer when you want to start running things.\n",
    "\n",
    "Check your memory usage at the bottom in the middle of the screen.\n",
    "```\n",
    "\n",
    "2) You can choose different images. Stick with the default Py-R Geospatial image.\n",
    "\n",
    "3) Once you are on the hub, let's go over\n",
    "    - JupyterHub options and viewing setup\n",
    "    - Git and Github\n",
    "    - Viewing and editing of different files"
   ]
  },
  {
   "cell_type": "markdown",
   "id": "71e8e9bf-a844-4eb7-b8df-3b02f44e9030",
   "metadata": {
    "tags": [],
    "user_expressions": []
   },
   "source": [
    "Now after the demo..."
   ]
  },
  {
   "cell_type": "markdown",
   "id": "5b99d916-deb8-4af0-9fce-1e38e5c18d87",
   "metadata": {
    "user_expressions": []
   },
   "source": [
    "## Shutting down your JupyterHub\n",
    "\n",
    "```{admonition} TIP\n",
    "**Best Practice: Shut down your server when you are done to save us money.**\n",
    "\n",
    "**If you only close your tab or click log out, your server will continue running for 90 minutes.**\n",
    "```\n",
    "\n",
    "Whenever you are done, it is best to shut down your server. Time on the JupyterHub costs money and there are systems in place to make sure your server doesn't run indefinitely if you forget about it. After 90 minutes of no use, it will shut down. We prefer you shut down the server when so we save that 90 minutes of computing cost. To do so:\n",
    "\n",
    "- In upper left, click on `File` > `Hub Control Panel`, which will open another tab\n",
    "- Click the `Stop Server` button. Once this button disappears after you clicked it, your server is off. \n",
    "- Click `Log Out` in the top right of your screen and you will be logged out, or you can start a new server\n",
    "- You can now close this tab and the other tab where you were just working"
   ]
  },
  {
   "cell_type": "markdown",
   "id": "surrounded-amateur",
   "metadata": {},
   "source": [
    "## Finishing up\n",
    "\n",
    " 🎉 Congratulations! You've completed this tutorial and have seen how we can access and use the JupyterHub."
   ]
  },
  {
   "cell_type": "code",
   "execution_count": null,
   "id": "90536619-a470-4f55-82bf-13472d9e31ac",
   "metadata": {},
   "outputs": [],
   "source": []
  }
 ],
 "metadata": {
  "kernelspec": {
   "display_name": "Python 3 (ipykernel)",
   "language": "python",
   "name": "python3"
  },
  "language_info": {
   "codemirror_mode": {
    "name": "ipython",
    "version": 3
   },
   "file_extension": ".py",
   "mimetype": "text/x-python",
   "name": "python",
   "nbconvert_exporter": "python",
   "pygments_lexer": "ipython3",
   "version": "3.12.10"
  }
 },
 "nbformat": 4,
 "nbformat_minor": 5
}
